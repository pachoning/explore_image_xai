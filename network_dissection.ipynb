{
 "cells": [
  {
   "cell_type": "code",
   "execution_count": null,
   "id": "1b30a01c-796a-49d5-b7be-c873c302528d",
   "metadata": {},
   "outputs": [],
   "source": [
    "%matplotlib inline\n",
    "from skimage import io, transform\n",
    "import matplotlib.pyplot as plt\n",
    "import numpy as np\n",
    "from keras.applications.inception_v3 import InceptionV3, preprocess_input, decode_predictions\n",
    "import tensorflow as tf"
   ]
  },
  {
   "cell_type": "markdown",
   "id": "d8f13564-532c-48f9-a83f-6d8dc61e0d33",
   "metadata": {},
   "source": [
    "- Comprovar escala de l'Inception\n",
    "- Clipping quan actualitzo la imatge\n",
    "- Inicialització  amb mitjana 0\n",
    "- Comprovar el clipping quan pinto\n",
    "- Activació últim layer"
   ]
  },
  {
   "cell_type": "code",
   "execution_count": null,
   "id": "0f78ddaf-27ad-4cd1-a9a9-955662cb21f6",
   "metadata": {},
   "outputs": [],
   "source": [
    "image = io.imread('images/input/Maula.jpg')\n",
    "image_res = preprocess_input(image)\n",
    "mean_value = tf.reduce_mean(image_res, axis = (0, 1))\n",
    "print(mean_value)\n",
    "plt.imshow(image)"
   ]
  },
  {
   "cell_type": "code",
   "execution_count": null,
   "id": "c90a69c8-57aa-419e-a7a5-398017cb177e",
   "metadata": {},
   "outputs": [],
   "source": [
    "image_restored = image_res\n",
    "image_restored[..., 0] += mean_value[0]\n",
    "image_restored[..., 1] += mean_value[1]\n",
    "image_restored[..., 2] += mean_value[2]\n",
    "print(tf.reduce_min(image_restored))"
   ]
  },
  {
   "cell_type": "code",
   "execution_count": null,
   "id": "bbdefd4b-6014-416e-8868-c9c28219ec8f",
   "metadata": {},
   "outputs": [],
   "source": [
    "tf.reduce_mean(image_res, axis=(0,1))"
   ]
  },
  {
   "cell_type": "code",
   "execution_count": null,
   "id": "94a0ea70-7247-46f3-99d8-e771ca6e4857",
   "metadata": {},
   "outputs": [],
   "source": [
    "model = InceptionV3(classifier_activation=None)"
   ]
  },
  {
   "cell_type": "code",
   "execution_count": null,
   "id": "5f92b095-05ae-46aa-8784-5108be2e46d9",
   "metadata": {},
   "outputs": [],
   "source": [
    "preds = model.predict(image[np.newaxis, ...])\n",
    "preds.argmax()"
   ]
  },
  {
   "cell_type": "code",
   "execution_count": null,
   "id": "cb4e6c7d-b247-4b2c-8959-30f8b91ebc3a",
   "metadata": {},
   "outputs": [],
   "source": [
    "preds = model.predict(image[np.newaxis, ...])\n",
    "idx = np.argmax(preds[0])\n",
    "print(idx)\n",
    "print(preds[0][idx])\n",
    "print(decode_predictions(preds))"
   ]
  },
  {
   "cell_type": "code",
   "execution_count": null,
   "id": "79cdb0e0-b413-4efe-8d29-06133603d73b",
   "metadata": {},
   "outputs": [],
   "source": [
    "random_image = tf.random.uniform((299,299,3), minval=0, maxval=1, dtype=tf.dtypes.float32)\n",
    "print(tf.reduce_min(random_image))\n",
    "print(tf.reduce_max(random_image))"
   ]
  },
  {
   "cell_type": "code",
   "execution_count": null,
   "id": "bcdeafdf-0267-4c12-a195-a284e4ded403",
   "metadata": {},
   "outputs": [],
   "source": [
    "preds_random_image = model.predict(random_image[np.newaxis, ...])\n",
    "idx = np.argmax(preds_random_image[0])\n",
    "print(idx)\n",
    "print(preds_random_image[0][idx])\n",
    "print(decode_predictions(preds_random_image))"
   ]
  },
  {
   "cell_type": "code",
   "execution_count": null,
   "id": "50944273-2cc8-47da-a897-4ab5c9da0f71",
   "metadata": {},
   "outputs": [],
   "source": [
    "cat_class = 285\n",
    "learning_rate = 0.01\n",
    "inputs = random_image[np.newaxis, ...] #adding axis (batch)"
   ]
  },
  {
   "cell_type": "code",
   "execution_count": null,
   "id": "778d8758-880b-44c8-a859-a1c5bc1109fb",
   "metadata": {},
   "outputs": [],
   "source": [
    "for i in range(20000):\n",
    "    with tf.GradientTape() as tape:\n",
    "        tape.watch(inputs) # Start watching this part\n",
    "        preds = model(inputs) # Make a prediction\n",
    "        predicted_probability = preds[0][cat_class]\n",
    "        if(i%1000 == 0):\n",
    "            print(predicted_probability)\n",
    "        grads = tape.gradient(predicted_probability, inputs)\n",
    "        inputs = inputs + learning_rate*grads\n",
    "        inputs = tf.clip_by_value(inputs, clip_value_min=0, clip_value_max=1)"
   ]
  },
  {
   "cell_type": "code",
   "execution_count": null,
   "id": "f356bff0-d85a-46a7-9275-e0090bb7f794",
   "metadata": {},
   "outputs": [],
   "source": [
    "tf.nn.softmax(preds[0])[cat_class]"
   ]
  },
  {
   "cell_type": "code",
   "execution_count": null,
   "id": "187bd9bc-0c8e-4106-8151-e0c0b665f5f1",
   "metadata": {},
   "outputs": [],
   "source": [
    "print(tf.reduce_min(inputs))\n",
    "print(tf.reduce_max(inputs))"
   ]
  },
  {
   "cell_type": "code",
   "execution_count": null,
   "id": "454de82b-43f9-402a-8cfe-2aa54d88bc74",
   "metadata": {},
   "outputs": [],
   "source": [
    "fig = plt.gcf()\n",
    "DPI = fig.get_dpi()\n",
    "fig.set_size_inches(299.0/float(DPI),299.0/float(DPI))\n",
    "plt.imshow(inputs[0])\n",
    "plt.axis('off')\n",
    "fig.savefig('images/output/class_representative.png')"
   ]
  },
  {
   "cell_type": "code",
   "execution_count": null,
   "id": "3b358db0-ccb9-4515-8385-3bf68fbc9ab1",
   "metadata": {},
   "outputs": [],
   "source": [
    "print(decode_predictions(model.predict(inputs)))"
   ]
  }
 ],
 "metadata": {
  "kernelspec": {
   "display_name": ".venv",
   "language": "python",
   "name": ".venv"
  },
  "language_info": {
   "codemirror_mode": {
    "name": "ipython",
    "version": 3
   },
   "file_extension": ".py",
   "mimetype": "text/x-python",
   "name": "python",
   "nbconvert_exporter": "python",
   "pygments_lexer": "ipython3",
   "version": "3.9.7"
  }
 },
 "nbformat": 4,
 "nbformat_minor": 5
}

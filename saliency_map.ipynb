{
 "cells": [
  {
   "cell_type": "code",
   "execution_count": null,
   "id": "18b890b9-7f66-4a08-84b1-e1882a62f012",
   "metadata": {},
   "outputs": [],
   "source": [
    "%matplotlib inline\n",
    "from skimage import io, transform\n",
    "import matplotlib.pyplot as plt\n",
    "import numpy as np\n",
    "from keras.applications.inception_v3 import InceptionV3\n",
    "from keras.applications.imagenet_utils import decode_predictions\n",
    "import tensorflow as tf"
   ]
  },
  {
   "cell_type": "code",
   "execution_count": null,
   "id": "d8c93677-d0bb-4008-9105-532183ea8d3c",
   "metadata": {},
   "outputs": [],
   "source": [
    "image = io.imread('images/input/Maula.jpg')\n",
    "target_image_size = (299, 299)\n",
    "image = transform.resize(image, target_image_size)\n",
    "plt.imshow(image)"
   ]
  },
  {
   "cell_type": "code",
   "execution_count": null,
   "id": "8440a5e2-15dc-4697-a9a4-c6a69495478f",
   "metadata": {},
   "outputs": [],
   "source": [
    "fig = plt.gcf()\n",
    "DPI = fig.get_dpi()\n",
    "fig.set_size_inches(299.0/float(DPI),299.0/float(DPI))\n",
    "plt.imshow(image)\n",
    "plt.axis('off')\n",
    "fig.savefig('images/output/maula_299.png')"
   ]
  },
  {
   "cell_type": "code",
   "execution_count": null,
   "id": "8b163e7a-c7eb-442c-b836-4587d567917e",
   "metadata": {},
   "outputs": [],
   "source": [
    "model = InceptionV3()"
   ]
  },
  {
   "cell_type": "code",
   "execution_count": null,
   "id": "a724ca08-1163-4e6d-a261-bf5689c2760a",
   "metadata": {},
   "outputs": [],
   "source": [
    "image = (image - 0.5)*2"
   ]
  },
  {
   "cell_type": "code",
   "execution_count": null,
   "id": "0950344b-3815-4434-b2a5-639f5e82ec1f",
   "metadata": {},
   "outputs": [],
   "source": [
    "preds = model.predict(image[np.newaxis, ...])\n",
    "idx = np.argmax(preds[0])\n",
    "print(idx)\n",
    "print(preds[0][idx])\n",
    "print(decode_predictions(preds))"
   ]
  },
  {
   "cell_type": "code",
   "execution_count": null,
   "id": "5a1df6d6-939b-4162-a949-2006b1afcb34",
   "metadata": {},
   "outputs": [],
   "source": [
    "with tf.GradientTape() as tape:\n",
    "    inputs = image[np.newaxis, ...] #adding axis (batch)\n",
    "    inputs_tf = tf.convert_to_tensor(inputs, dtype=tf.float32)\n",
    "    tape.watch(inputs_tf) # Start watching this part\n",
    "    preds = model(inputs_tf) # Make a prediction\n",
    "    top_pred_index = tf.argmax(preds[0]) #Get the class of the highest probability\n",
    "    top_class_channel = preds[:, top_pred_index]"
   ]
  },
  {
   "cell_type": "code",
   "execution_count": null,
   "id": "0fe48d5f-15d9-47d9-bb86-3b850f4b348b",
   "metadata": {},
   "outputs": [],
   "source": [
    "grads = tape.gradient(top_class_channel, inputs_tf)\n",
    "grads_abs = tf.math.abs(grads)"
   ]
  },
  {
   "cell_type": "code",
   "execution_count": null,
   "id": "b2dce9e9-2d7e-4a87-b49a-befacede2b5a",
   "metadata": {},
   "outputs": [],
   "source": [
    "grads_max = tf.math.reduce_max(grads, axis=-1)"
   ]
  },
  {
   "cell_type": "code",
   "execution_count": null,
   "id": "1b759ef0-c694-4e0f-b9d5-fe8a0cfffa8f",
   "metadata": {},
   "outputs": [],
   "source": [
    "fig = plt.gcf()\n",
    "DPI = fig.get_dpi()\n",
    "fig.set_size_inches(299.0/float(DPI),299.0/float(DPI))\n",
    "plt.imshow(grads_max[0], vmin=np.min(grads_max[0]), vmax=np.max(grads_max[0]), alpha=0.5, cmap='RdBu')\n",
    "plt.axis('off')\n",
    "#fig.savefig('images/output/maula_saliency.png')"
   ]
  }
 ],
 "metadata": {
  "kernelspec": {
   "display_name": ".venv",
   "language": "python",
   "name": ".venv"
  },
  "language_info": {
   "codemirror_mode": {
    "name": "ipython",
    "version": 3
   },
   "file_extension": ".py",
   "mimetype": "text/x-python",
   "name": "python",
   "nbconvert_exporter": "python",
   "pygments_lexer": "ipython3",
   "version": "3.9.7"
  }
 },
 "nbformat": 4,
 "nbformat_minor": 5
}
